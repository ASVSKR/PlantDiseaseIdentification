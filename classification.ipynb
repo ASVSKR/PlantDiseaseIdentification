{
 "cells": [
  {
   "cell_type": "code",
   "execution_count": 55,
   "metadata": {},
   "outputs": [],
   "source": [
    "import tensorflow as tf\n",
    "from tensorflow.keras.models import Model\n",
    "from tensorflow.keras.layers import Dense, GlobalAveragePooling2D\n",
    "from tensorflow.keras.regularizers import l2\n",
    "from tensorflow.keras.preprocessing.image import ImageDataGenerator"
   ]
  },
  {
   "cell_type": "code",
   "execution_count": 56,
   "metadata": {},
   "outputs": [
    {
     "name": "stdout",
     "output_type": "stream",
     "text": [
      "Num GPUs Available:  1\n"
     ]
    }
   ],
   "source": [
    "print(\"Num GPUs Available: \", len(tf.config.list_physical_devices('GPU')))"
   ]
  },
  {
   "cell_type": "code",
   "execution_count": 57,
   "metadata": {},
   "outputs": [],
   "source": [
    "# Set paths to dataset\n",
    "train_dir = 'data/train'\n",
    "val_dir = 'data/valid'"
   ]
  },
  {
   "cell_type": "code",
   "execution_count": 58,
   "metadata": {},
   "outputs": [],
   "source": [
    "# Load the MobileNetV2 model pre-trained on ImageNet\n",
    "base_model = tf.keras.applications.MobileNetV2(weights='imagenet', include_top=False, input_shape=(224, 224, 3))"
   ]
  },
  {
   "cell_type": "code",
   "execution_count": 59,
   "metadata": {},
   "outputs": [
    {
     "name": "stdout",
     "output_type": "stream",
     "text": [
      "Found 70295 images belonging to 38 classes.\n",
      "Found 17572 images belonging to 38 classes.\n"
     ]
    }
   ],
   "source": [
    "# Image preprocessing\n",
    "train_datagen = ImageDataGenerator(rescale=1.0 / 255, horizontal_flip=True, rotation_range=20)\n",
    "val_datagen = ImageDataGenerator(rescale=1.0 / 255)\n",
    "\n",
    "train_generator = train_datagen.flow_from_directory(\n",
    "    train_dir, target_size=(224, 224), batch_size=32, class_mode='categorical'\n",
    ")\n",
    "val_generator = val_datagen.flow_from_directory(\n",
    "    val_dir, target_size=(224, 224), batch_size=32, class_mode='categorical'\n",
    ")\n",
    "\n",
    "from tensorflow.data import AUTOTUNE\n",
    "\n",
    "# Convert generators to TensorFlow datasets and prefetch\n",
    "train_dataset = tf.data.Dataset.from_generator(\n",
    "    lambda: train_generator,\n",
    "    output_signature=(tf.TensorSpec(shape=(None, 224, 224, 3), dtype=tf.float32),\n",
    "                      tf.TensorSpec(shape=(None, train_generator.num_classes), dtype=tf.float32))\n",
    ").prefetch(buffer_size=AUTOTUNE)\n",
    "\n",
    "val_dataset = tf.data.Dataset.from_generator(\n",
    "    lambda: val_generator,\n",
    "    output_signature=(tf.TensorSpec(shape=(None, 224, 224, 3), dtype=tf.float32),\n",
    "                      tf.TensorSpec(shape=(None, val_generator.num_classes), dtype=tf.float32))\n",
    ").prefetch(buffer_size=AUTOTUNE)\n",
    "\n",
    "# Freeze the base model\n",
    "base_model.trainable = False\n",
    "\n",
    "# Add custom layers for plant disease classification\n",
    "x = base_model.output\n",
    "x = GlobalAveragePooling2D()(x)\n",
    "x = Dense(128, activation='relu')(x)\n",
    "predictions = Dense(train_generator.num_classes, activation='softmax')(x)"
   ]
  },
  {
   "cell_type": "code",
   "execution_count": 60,
   "metadata": {},
   "outputs": [],
   "source": [
    "from tensorflow.keras import mixed_precision\n",
    "# Enable mixed precision training\n",
    "mixed_precision.set_global_policy('mixed_float16')"
   ]
  },
  {
   "cell_type": "code",
   "execution_count": 61,
   "metadata": {},
   "outputs": [
    {
     "name": "stdout",
     "output_type": "stream",
     "text": [
      "Epoch 1/10\n",
      "2197/2197 [==============================] - 1728s 785ms/step - loss: 0.3897 - accuracy: 0.8831 - val_loss: 0.2332 - val_accuracy: 0.9236\n",
      "Epoch 2/10\n",
      "2197/2197 [==============================] - 2057s 936ms/step - loss: 0.1855 - accuracy: 0.9380 - val_loss: 0.2120 - val_accuracy: 0.9281\n",
      "Epoch 3/10\n",
      "2197/2197 [==============================] - 1837s 836ms/step - loss: 0.1509 - accuracy: 0.9485 - val_loss: 0.2280 - val_accuracy: 0.9269\n",
      "Epoch 4/10\n",
      "2197/2197 [==============================] - 918s 417ms/step - loss: 0.1345 - accuracy: 0.9541 - val_loss: 0.1808 - val_accuracy: 0.9374\n",
      "Epoch 5/10\n",
      "2197/2197 [==============================] - 767s 349ms/step - loss: 0.1219 - accuracy: 0.9572 - val_loss: 0.1706 - val_accuracy: 0.9431\n",
      "Epoch 6/10\n",
      "2197/2197 [==============================] - 763s 347ms/step - loss: 0.1122 - accuracy: 0.9614 - val_loss: 0.2105 - val_accuracy: 0.9321\n",
      "Epoch 7/10\n",
      "2197/2197 [==============================] - 774s 352ms/step - loss: 0.1065 - accuracy: 0.9633 - val_loss: 0.1910 - val_accuracy: 0.9410\n",
      "Epoch 8/10\n",
      "2197/2197 [==============================] - 810s 369ms/step - loss: 0.1002 - accuracy: 0.9654 - val_loss: 0.1746 - val_accuracy: 0.9445\n",
      "Epoch 9/10\n",
      "2197/2197 [==============================] - 852s 388ms/step - loss: 0.0929 - accuracy: 0.9684 - val_loss: 0.1509 - val_accuracy: 0.9503\n",
      "Epoch 10/10\n",
      "2197/2197 [==============================] - 798s 363ms/step - loss: 0.0886 - accuracy: 0.9694 - val_loss: 0.1747 - val_accuracy: 0.9450\n"
     ]
    }
   ],
   "source": [
    "# Create the full model\n",
    "model = Model(inputs=base_model.input, outputs=predictions)\n",
    "\n",
    "# Compile the model\n",
    "model.compile(optimizer='adam', loss='categorical_crossentropy', metrics=['accuracy'])\n",
    "\n",
    "with tf.device('/GPU:0'):\n",
    "    history = model.fit(train_generator, validation_data=val_generator, epochs=10)\n"
   ]
  },
  {
   "cell_type": "code",
   "execution_count": 62,
   "metadata": {},
   "outputs": [
    {
     "name": "stdout",
     "output_type": "stream",
     "text": [
      "Model trained and saved as 'plant_disease_mobilenetv2.h5'\n"
     ]
    }
   ],
   "source": [
    "# Save the model\n",
    "model.save('plant_disease_mobilenetv2.h5')\n",
    "\n",
    "print(\"Model trained and saved as 'plant_disease_mobilenetv2.h5'\")"
   ]
  }
 ],
 "metadata": {
  "kernelspec": {
   "display_name": "tf",
   "language": "python",
   "name": "python3"
  },
  "language_info": {
   "codemirror_mode": {
    "name": "ipython",
    "version": 3
   },
   "file_extension": ".py",
   "mimetype": "text/x-python",
   "name": "python",
   "nbconvert_exporter": "python",
   "pygments_lexer": "ipython3",
   "version": "3.9.21"
  }
 },
 "nbformat": 4,
 "nbformat_minor": 2
}
